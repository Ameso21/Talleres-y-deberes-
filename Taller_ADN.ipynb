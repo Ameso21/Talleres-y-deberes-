{
  "nbformat": 4,
  "nbformat_minor": 0,
  "metadata": {
    "colab": {
      "provenance": [],
      "authorship_tag": "ABX9TyPMxrMps7HaO/MkbLAoF+m9",
      "include_colab_link": true
    },
    "kernelspec": {
      "name": "python3",
      "display_name": "Python 3"
    },
    "language_info": {
      "name": "python"
    }
  },
  "cells": [
    {
      "cell_type": "markdown",
      "metadata": {
        "id": "view-in-github",
        "colab_type": "text"
      },
      "source": [
        "<a href=\"https://colab.research.google.com/github/Ameso21/Talleres-y-deberes-/blob/main/Taller_ADN.ipynb\" target=\"_parent\"><img src=\"https://colab.research.google.com/assets/colab-badge.svg\" alt=\"Open In Colab\"/></a>"
      ]
    },
    {
      "cell_type": "code",
      "execution_count": 20,
      "metadata": {
        "id": "zn2GGtl7Wn16"
      },
      "outputs": [],
      "source": [
        "def validate_dna(dna_seq):\n",
        "    # Checks if DNA sequence is valid. Returns True is sequence is valid, or False otherwise. \"urns True if the sequence is valid (contains only A, C, G, T) or False otherwise.\n",
        "\n",
        "    seqm = dna_seq.upper()\n",
        "    valid = seqm.count(\"A\") + seqm.count(\"C\") + seqm.count(\"G\") + seqm.count(\"T\")\n",
        "\n",
        "    # Validate if all characters are A, C, G, or T\n",
        "    if valid == len(seqm): return True\n",
        "    else: return False\n",
        "\n",
        "def frequency(seq):\n",
        "    # Calculates the frequency of each symbol in the sequence. Returns a dictionary. \"\"\"\n",
        "    dic = {}\n",
        "    for s in seq.upper():\n",
        "        if s in dic:\n",
        "            dic[s] += 1\n",
        "        else:\n",
        "            dic[s] = 1\n",
        "    return dic\n",
        "\n",
        "def count_x(seq):\n",
        "    \"\"\"\n",
        "    Counts the number of 'X' letters in the sequence.\n",
        "    \"\"\"\n",
        "    return seq.upper().count(\"X\")\n",
        "\n"
      ]
    },
    {
      "cell_type": "code",
      "source": [
        "validate_dna(\"AXXGTXCC\")"
      ],
      "metadata": {
        "colab": {
          "base_uri": "https://localhost:8080/"
        },
        "id": "mcjpCaCuZbuK",
        "outputId": "f03981b4-9efd-4e66-cbd2-fa6f5e2aa3e5"
      },
      "execution_count": 21,
      "outputs": [
        {
          "output_type": "execute_result",
          "data": {
            "text/plain": [
              "False"
            ]
          },
          "metadata": {},
          "execution_count": 21
        }
      ]
    },
    {
      "cell_type": "code",
      "source": [
        "frequency(\"AXXGTXCC\")\n"
      ],
      "metadata": {
        "colab": {
          "base_uri": "https://localhost:8080/"
        },
        "id": "xzodQuhjYVIG",
        "outputId": "31eeb6a1-27de-4610-9af8-70a100cb6215"
      },
      "execution_count": 22,
      "outputs": [
        {
          "output_type": "execute_result",
          "data": {
            "text/plain": [
              "{'A': 1, 'X': 3, 'G': 1, 'T': 1, 'C': 2}"
            ]
          },
          "metadata": {},
          "execution_count": 22
        }
      ]
    },
    {
      "cell_type": "code",
      "source": [
        "sequence = \"AXXGTXCC\"\n",
        "num_x = count_x(sequence)\n",
        "print(f\"Number of 'X' in the sequence: {num_x}\")"
      ],
      "metadata": {
        "colab": {
          "base_uri": "https://localhost:8080/"
        },
        "id": "tGlx15CFaFxn",
        "outputId": "ba64bc14-f5b1-4bae-cd0d-4d0009d3983d"
      },
      "execution_count": 23,
      "outputs": [
        {
          "output_type": "stream",
          "name": "stdout",
          "text": [
            "Number of 'X' in the sequence: 3\n"
          ]
        }
      ]
    }
  ]
}