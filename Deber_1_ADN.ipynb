{
  "nbformat": 4,
  "nbformat_minor": 0,
  "metadata": {
    "colab": {
      "provenance": [],
      "authorship_tag": "ABX9TyPFj8CGAsFBxJqiGKUi2q+v",
      "include_colab_link": true
    },
    "kernelspec": {
      "name": "python3",
      "display_name": "Python 3"
    },
    "language_info": {
      "name": "python"
    }
  },
  "cells": [
    {
      "cell_type": "markdown",
      "metadata": {
        "id": "view-in-github",
        "colab_type": "text"
      },
      "source": [
        "<a href=\"https://colab.research.google.com/github/Ameso21/Talleres-y-deberes-/blob/main/Deber_1_ADN.ipynb\" target=\"_parent\"><img src=\"https://colab.research.google.com/assets/colab-badge.svg\" alt=\"Open In Colab\"/></a>"
      ]
    },
    {
      "cell_type": "code",
      "execution_count": 18,
      "metadata": {
        "colab": {
          "base_uri": "https://localhost:8080/"
        },
        "id": "PdABUTymoxam",
        "outputId": "5ec4a7b4-b6f5-47d5-c713-f69d59913085"
      },
      "outputs": [
        {
          "output_type": "stream",
          "name": "stdout",
          "text": [
            "Ingrese una cadena de ADN: agtacagtaac\n",
            "Ingrese otra cadena de ADN para verificar mutación: agtaccagt\n",
            "Las cadenas de ADN son diferentes.\n",
            "Posición 6: A != C\n",
            "Posición 7: G != A\n",
            "Posición 8: T != G\n",
            "Posición 9: A != T\n",
            "Las cadenas tienen longitudes diferentes. Longitud de cadena1: 11, Longitud de cadena2: 9.\n",
            "Cadenas ingresadas: AGTACAGTAAC AGTACCAGT\n"
          ]
        }
      ],
      "source": [
        "def validate_dna(dna_seq):\n",
        "    # Comprueba si la secuencia de ADN es válida \"\n",
        "    seqm = dna_seq.upper()  # Convertimos a mayúsculas\n",
        "    valid = seqm.count(\"A\") + seqm.count(\"C\") + seqm.count(\"G\") + seqm.count(\"T\")\n",
        "    return valid == len(seqm)\n",
        "\n",
        "def encontrar_diferencias(cadena1, cadena2):\n",
        "    \"\"\"\n",
        "    Compara dos cadenas de ADN y muestra en qué posiciones son diferentes.\n",
        "    \"\"\"\n",
        "    diferencias = []\n",
        "    longitud = min(len(cadena1), len(cadena2))  # Comparamos hasta la longitud de la cadena más corta\n",
        "\n",
        "    for i in range(longitud):\n",
        "        if cadena1[i] != cadena2[i]:\n",
        "            diferencias.append(f\"Posición {i + 1}: {cadena1[i]} != {cadena2[i]}\")\n",
        "\n",
        "    # Si las cadenas tienen longitudes diferentes, también mostramos el exceso de una sobre la otra\n",
        "    if len(cadena1) != len(cadena2):\n",
        "        diferencias.append(f\"Las cadenas tienen longitudes diferentes. Longitud de cadena1: {len(cadena1)}, Longitud de cadena2: {len(cadena2)}.\")\n",
        "\n",
        "    return diferencias\n",
        "\n",
        "# Solicitamos las cadenas de ADN\n",
        "cadena1 = input(\"Ingrese una cadena de ADN: \")\n",
        "cadena2 = input(\"Ingrese otra cadena de ADN para verificar mutación: \")\n",
        "\n",
        "# Validamos ambas cadenas\n",
        "if validate_dna(cadena1) and validate_dna(cadena2):\n",
        "    # Convertimos ambas cadenas a mayúsculas para compararlas correctamente\n",
        "    cadena1 = cadena1.upper()\n",
        "    cadena2 = cadena2.upper()\n",
        "\n",
        "    # Comparamos si ambas cadenas son iguales\n",
        "    if cadena1 == cadena2:\n",
        "        print(\"Las cadenas de ADN son iguales.\")\n",
        "    else:\n",
        "        print(\"Las cadenas de ADN son diferentes.\")\n",
        "        # Encontramos y mostramos las diferencias\n",
        "        diferencias = encontrar_diferencias(cadena1, cadena2)\n",
        "        for dif in diferencias:\n",
        "            print(dif)\n",
        "\n",
        "    # Imprimimos ambas cadenas\n",
        "    print(\"Cadenas ingresadas:\", cadena1, cadena2)\n",
        "else:\n",
        "    print(\"Una o ambas cadenas de ADN no son válidas.\")\n",
        "\n"
      ]
    }
  ]
}